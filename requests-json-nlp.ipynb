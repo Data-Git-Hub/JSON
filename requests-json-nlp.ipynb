{
 "cells": [
  {
   "cell_type": "markdown",
   "metadata": {},
   "source": [
    "# Web Mining and Applied NLP (CSIS 44-620)\n",
    "\n",
    "## P4: Employ Requests, JSON, NLP & Engage\n",
    "\n",
    "### \n",
    "Author: Data-Git-Hub <br>\n",
    "GitHub Project Repository Link: https://github.com/Data-Git-Hub/Pyplot <br>\n",
    "6 July 2025 <br>\n",
    "\n",
    "### Introduction\n",
    "In this project, I explore how to interact with web APIs, process JSON responses, and perform sentiment analysis using natural language processing (NLP) techniques in Python. By leveraging tools such as `requests`, `json`, and the `spaCy` library with the `spacytextblob` extension, I demonstrate how to fetch text data—such as song lyrics or poems—from online sources, analyze sentiment, and store results in structured JSON files. This project highlights essential data analytics skills including API interaction, text processing, and writing reusable functions. All work is conducted within a Jupyter Notebook and version-controlled using GitHub, with final outputs exported to HTML to ensure accessibility and reproducibility. <br>\n",
    "\n",
    "### Imports\n",
    "Python libraries are collections of pre-written code that provide specific functionalities, making programming more efficient and reducing the need to write code from scratch. These libraries cover a wide range of applications, including data analysis, machine learning, web development, and automation. Some libraries, such as os, sys, math, json, and datetime, come built-in with Python as part of its standard library, providing essential functions for file handling, system operations, mathematical computations, and data serialization. Other popular third-party libraries, like `pandas`, `numpy`, `matplotlib`, `seaborn`, and `scikit-learn`, must be installed separately and are widely used in data science and machine learning. The extensive availability of libraries in Python's ecosystem makes it a versatile and powerful programming language for various domains. <br>\n",
    "\n",
    "`ipykernel` allows Jupyter Notebooks to run Python code by providing the kernel interface used to execute cells and handle communication between the front-end and the Python interpreter. <br>\n",
    "https://ipykernel.readthedocs.io/en/latest/ <br>\n",
    "\n",
    "The `json` module provides functions to parse JSON strings and convert Python objects to JSON format, enabling easy exchange of data with web APIs. <br>\n",
    "https://docs.python.org/3/library/json.html <br>\n",
    "\n",
    "The `requests` library simplifies making HTTP requests in Python, allowing you to send GET, POST, and other types of requests to interact with APIs or web services. <br>\n",
    " https://docs.python-requests.org/en/latest/ <br>\n",
    "\n",
    "`spaCy` is an advanced NLP library for Python that provides tools for tokenization, part-of-speech tagging, named entity recognition, and more, using pre-trained pipelines. <br>\n",
    "https://spacy.io/ <br>\n",
    "\n",
    "`spacytextblob` is a plugin for spaCy that adds sentiment analysis capabilities by integrating TextBlob's polarity and subjectivity scores into spaCy’s pipeline. <br>\n",
    "https://github.com/AndrewIbrahim/spacy-textblob <br>"
   ]
  },
  {
   "cell_type": "code",
   "execution_count": 35,
   "metadata": {},
   "outputs": [],
   "source": [
    "import requests\n",
    "import lyricsgenius\n",
    "import json\n",
    "import spacy\n",
    "from spacytextblob.spacytextblob import SpacyTextBlob\n",
    "from textblob import TextBlob\n",
    "from spacy.tokens import Doc\n",
    "import os"
   ]
  },
  {
   "cell_type": "markdown",
   "metadata": {},
   "source": [
    "\n",
    "### Task\n",
    "Perform the tasks described in the Markdown cells below.  When you have completed the assignment make sure your code cells have all been run (and have output beneath them) and ensure you have committed and pushed ALL of your changes to your assignment repository. <br>\n",
    "\n",
    "Make sure you have [installed spaCy and its pipeline](https://spacy.io/usage#quickstart) and [spaCyTextBlob](https://spacy.io/universe/project/spacy-textblob) <br>\n",
    "\n",
    "Every question that requires you to write code will have a code cell underneath it; you may either write your entire solution in that cell or write it in a python file (`.py`), then import and run the appropriate code to answer the question. <br>\n",
    "\n",
    "This assignment requires that you write additional files (either JSON or pickle files); make sure to submit those files in your repository as well. <br>"
   ]
  },
  {
   "cell_type": "markdown",
   "metadata": {},
   "source": [
    "#### Section 1. Accessing and Storing Song Lyrics Using a Public API\n",
    "The following code accesses the [lyrics.ovh](https://lyricsovh.docs.apiary.io/#reference/0/lyrics-of-a-song/search) public api, searches for the lyrics of a song, and stores it in a dictionary object.  Write the resulting json to a file (either a JSON file or a pickle file; you choose). You will read in the contents of this file for future questions so we do not need to frequently access the API."
   ]
  },
  {
   "cell_type": "code",
   "execution_count": 36,
   "metadata": {},
   "outputs": [
    {
     "name": "stdout",
     "output_type": "stream",
     "text": [
      "Searching for \"Conditions of My Parole\" by Puscifer...\n",
      "Done.\n",
      "Lyrics preview:\n",
      "\n",
      "20 ContributorsConditions of My Parole Lyrics[Verse 1]\n",
      "Sweet baby Jesus on fire\n",
      "I'ma need a damn lawyer and a miracle\n",
      "To pull my ass out of this\n",
      "Devil kept pokin' the bull\n",
      "So I shipped her ass to Mozambique\n",
      "'Cause I was over it\n",
      "\n",
      "[Verse 2]\n",
      "Shoulda dumped my gat into the Verde\n",
      "But what if she's a zombie or a Dracula?\n",
      "I better hang on to this\n",
      "Lordy with my hand upon the Bible\n",
      "Swear I shot the damn devil, not a bitch\n",
      "But the po-po don't give a shit\n",
      "\n",
      "[Verse 3]\n",
      "Lordy, won't you show a little mercy?\n",
      "I'\n",
      "\n",
      "Lyrics saved to 'C:/Projects/JSON/lyrics\\puscifer_conditions_of_my_parole_lyrics.json'\n"
     ]
    },
    {
     "name": "stderr",
     "output_type": "stream",
     "text": [
      "c:\\Projects\\JSON\\.venv\\Lib\\site-packages\\lyricsgenius\\genius.py:468: FutureWarning: The constructor signature will change in a future version. It will change to Song(lyrics, body) instead of Song(client, json_dict, lyrics).\n",
      "  song = Song(self, song_info, lyrics)\n"
     ]
    }
   ],
   "source": [
    "# Use your Genius access token\n",
    "genius = lyricsgenius.Genius(\"ZrtG7V89LbOxHkAOCs_LzajRANkD1K8k8uV6W4OwjmWQd8WL2tmKsXItmaEH04kr\")\n",
    "\n",
    "# Search for the song\n",
    "song = genius.search_song(\"Conditions of My Parole\", \"Puscifer\")\n",
    "\n",
    "# Check if song was found\n",
    "if song:\n",
    "    print(\"Lyrics preview:\\n\")\n",
    "    print(song.lyrics[:500])  # Preview the first 500 characters\n",
    "\n",
    "    # Create the target directory if it doesn't exist\n",
    "    output_dir = r\"C:/Projects/JSON/lyrics\"\n",
    "    os.makedirs(output_dir, exist_ok=True)\n",
    "\n",
    "    # Save lyrics to the target folder\n",
    "    lyrics_data = {\"lyrics\": song.lyrics}\n",
    "    output_path = os.path.join(output_dir, \"puscifer_conditions_of_my_parole_lyrics.json\")\n",
    "    with open(output_path, \"w\", encoding=\"utf-8\") as f:\n",
    "        json.dump(lyrics_data, f, indent=4, ensure_ascii=False)\n",
    "\n",
    "    print(f\"\\nLyrics saved to '{output_path}'\")\n",
    "else:\n",
    "    print(\"Lyrics not found.\")\n"
   ]
  },
  {
   "cell_type": "markdown",
   "metadata": {},
   "source": [
    "#### Section 2. Sentiment Analysis of Song Lyrics Using spaCyTextBlob\n",
    "Read in the contents of your file.  Print the lyrics of the song (not the entire dictionary!) and use spaCyTextBlob to perform sentiment analysis on the lyrics.  Print the polarity score of the sentiment analysis.  Given that the range of the polarity score is `[-1.0,1.0]` which corresponds to how positive or negative the text in question is, do you think the lyrics have a more positive or negative connotaion?  Answer this question in a comment in your code cell."
   ]
  },
  {
   "cell_type": "code",
   "execution_count": 37,
   "metadata": {},
   "outputs": [
    {
     "name": "stdout",
     "output_type": "stream",
     "text": [
      "Lyrics Preview:\n",
      "\n",
      "20 ContributorsConditions of My Parole Lyrics[Verse 1]\n",
      "Sweet baby Jesus on fire\n",
      "I'ma need a damn lawyer and a miracle\n",
      "To pull my ass out of this\n",
      "Devil kept pokin' the bull\n",
      "So I shipped her ass to Mozambique\n",
      "'Cause I was over it\n",
      "\n",
      "[Verse 2]\n",
      "Shoulda dumped my gat into the Verde\n",
      "But what if she's a zombie or a Dracula?\n",
      "I better hang on to this\n",
      "Lordy with my hand upon the Bible\n",
      "Swear I shot the damn devil, not a bitch\n",
      "But the po-po don't give a shit\n",
      "\n",
      "[Verse 3]\n",
      "Lordy, won't you show a little mercy?\n",
      "I' ...\n",
      "\n",
      "Polarity score:\n",
      "0.031249999999999983\n",
      "\n",
      "Subjectivity score:\n",
      "0.5033333333333333\n"
     ]
    }
   ],
   "source": [
    "# Define the path to the lyrics JSON file in the \"lyrics\" folder\n",
    "lyrics_dir = r\"C:/Projects/JSON/lyrics\"\n",
    "lyrics_file = os.path.join(lyrics_dir, \"puscifer_conditions_of_my_parole_lyrics.json\")\n",
    "\n",
    "# Load the saved lyrics from the JSON file\n",
    "with open(lyrics_file, \"r\", encoding=\"utf-8\") as f:\n",
    "    data = json.load(f)\n",
    "\n",
    "# Extract the lyrics text\n",
    "lyrics = data.get(\"lyrics\", \"\")\n",
    "print(\"Lyrics Preview:\\n\")\n",
    "print(lyrics[:500], \"...\")  # Show the first 500 characters\n",
    "\n",
    "# Load spaCy language model\n",
    "nlp = spacy.load(\"en_core_web_sm\")\n",
    "\n",
    "# Register custom sentiment extensions using TextBlob\n",
    "Doc.set_extension(\"polarity\", getter=lambda doc: TextBlob(doc.text).sentiment.polarity, force=True)\n",
    "Doc.set_extension(\"subjectivity\", getter=lambda doc: TextBlob(doc.text).sentiment.subjectivity, force=True)\n",
    "\n",
    "# Process the lyrics\n",
    "doc = nlp(lyrics)\n",
    "\n",
    "# Print the polarity and subjectivity scores\n",
    "print(\"\\nPolarity score:\")\n",
    "print(doc._.polarity)\n",
    "\n",
    "print(\"\\nSubjectivity score:\")\n",
    "print(doc._.subjectivity)\n",
    "\n",
    "# Interpretation:\n",
    "# Based on the polarity score, we can infer whether the song expresses more positive or negative sentiment.\n",
    "# Given the song’s themes and tone, it likely has a more negative or ironic emotional connotation."
   ]
  },
  {
   "cell_type": "markdown",
   "metadata": {},
   "source": [
    "#### Section 2.1. Interpretation Polarity and Subjectivity Scores: Conditions of My Parole by Puscifer\n",
    "The polarity score of approximately 0.031 suggests that the overall sentiment of the lyrics is very slightly positive, but extremely close to neutral. Since polarity ranges from -1.0 (very negative) to +1.0 (very positive), a score near zero like this indicates a balanced tone with possibly both positive and negative expressions, or irony and sarcasm that neutralize each other in textual analysis. <br>\n",
    "\n",
    "The subjectivity score of 0.503 falls in the moderately subjective range. Subjectivity ranges from 0.0 (completely objective/factual) to 1.0 (highly subjective/opinionated). A score just over 0.5 implies that the lyrics contain a mix of emotions, opinions, or personal language, but also include a fair amount of descriptive or narrative content that could be interpreted as more neutral or factual in tone. <br>\n",
    "\n",
    "Given the style of Puscifer, which often blends dark humor, sarcasm, and introspection, these scores align with a subtle emotional tone. The slightly positive polarity might reflect sardonic optimism or lyrical irony, while the moderate subjectivity suggests a personal or reflective style without being overtly emotional or exaggerated. <br>"
   ]
  },
  {
   "cell_type": "code",
   "execution_count": 38,
   "metadata": {},
   "outputs": [
    {
     "name": "stdout",
     "output_type": "stream",
     "text": [
      "Lyrics Preview:\n",
      "\n",
      "231 ContributorsTranslationsTürkçekriolu kabuverdianuPortuguêsEspañolFrançaisBahasa IndonesiaالعربيةDeutschΕλληνικάHello LyricsAlmost five years after her groundbreaking 21, Adele examines the past and tries to right her wrongs on “Hello.” On the surface, the song appears to be about a break-up from long ago, but the song can also be… Read More [Verse 1]\n",
      "Hello, it's me\n",
      "I was wondering if after all these years, you'd like to meet\n",
      "To go over everything\n",
      "They say that time's supposed to heal ya\n",
      "But  ...\n",
      "\n",
      "Polarity score:\n",
      "-0.1089985994397759\n",
      "\n",
      "Subjectivity score:\n",
      "0.47825630252100854\n"
     ]
    }
   ],
   "source": [
    "# Define the path to the lyrics JSON file in the \"lyrics\" folder\n",
    "lyrics_dir = r\"C:/Projects/JSON/lyrics\"\n",
    "lyrics_file = os.path.join(lyrics_dir, \"adele_hello_lyrics.json\")\n",
    "\n",
    "# Load the saved lyrics from the JSON file\n",
    "with open(lyrics_file, \"r\", encoding=\"utf-8\") as f:\n",
    "    data = json.load(f)\n",
    "\n",
    "# Extract the lyrics text\n",
    "lyrics = data.get(\"lyrics\", \"\")\n",
    "print(\"Lyrics Preview:\\n\")\n",
    "print(lyrics[:500], \"...\")  # Show the first 500 characters\n",
    "\n",
    "# Load spaCy language model\n",
    "nlp = spacy.load(\"en_core_web_sm\")\n",
    "\n",
    "# Register custom sentiment extensions using TextBlob\n",
    "Doc.set_extension(\"polarity\", getter=lambda doc: TextBlob(doc.text).sentiment.polarity, force=True)\n",
    "Doc.set_extension(\"subjectivity\", getter=lambda doc: TextBlob(doc.text).sentiment.subjectivity, force=True)\n",
    "\n",
    "# Process the lyrics\n",
    "doc = nlp(lyrics)\n",
    "\n",
    "# Print the polarity and subjectivity scores\n",
    "print(\"\\nPolarity score:\")\n",
    "print(doc._.polarity)\n",
    "\n",
    "print(\"\\nSubjectivity score:\")\n",
    "print(doc._.subjectivity)\n",
    "\n",
    "# Interpretation:\n",
    "# Based on the polarity score, we can infer whether the song expresses more positive or negative sentiment.\n",
    "# Given the song’s themes and tone, it likely has a more negative or ironic emotional connotation."
   ]
  },
  {
   "cell_type": "markdown",
   "metadata": {},
   "source": [
    "#### Section 2.2. Interpretation Polarity and Subjectivity Scores: Hello by Adele\n",
    "The polarity score of approximately -0.109 indicates that the overall sentiment of the lyrics is mildly negative. Since polarity values range from -1.0 (most negative) to +1.0 (most positive), this score suggests a tone that leans toward sadness, regret, or emotional weight, but not strongly enough to be considered deeply negative. This is consistent with the lyrical themes of longing, apology, and emotional reflection found throughout the song. <br>\n",
    "\n",
    "The subjectivity score of 0.478 suggests that the lyrics are fairly balanced between subjective and objective language. A score close to 0.5 means the lyrics blend personal thoughts and emotions with descriptive storytelling. This indicates that while the song expresses Adele's personal feelings, it does so in a way that feels grounded and relatable rather than overly dramatic or emotionally biased. <br>\n",
    "\n",
    "The slightly negative polarity captures the melancholy and sorrow, while the moderate subjectivity reflects Adele’s thoughtful, controlled emotional delivery. The lyrics convey personal sentiment in a way that resonates with many listeners. <br>"
   ]
  },
  {
   "cell_type": "markdown",
   "metadata": {},
   "source": [
    "#### Section 3. \n",
    "Write a function that takes an artist, song, and filename, accesses the Genius api to get the song lyrics, and writes the results to the specified filename.  Test this function by getting the lyrics to any four songs of your choice and storing them in different files."
   ]
  },
  {
   "cell_type": "code",
   "execution_count": null,
   "metadata": {},
   "outputs": [
    {
     "name": "stdout",
     "output_type": "stream",
     "text": [
      "'puscifer_conditions_of_my_parole_lyrics.json' already saved.\n",
      "\n",
      "'adele_hello_lyrics.json' already saved.\n",
      "\n",
      "Searching for 'Karma Police' by Radiohead...\n",
      "Searching for \"Karma Police\" by Radiohead...\n",
      "Done.\n",
      "Lyrics saved to: C:/Projects/JSON/lyrics\\radiohead_karma_police_lyrics.json\n",
      "\n",
      "Searching for 'Hurt' by Johnny Cash...\n",
      "Searching for \"Hurt\" by Johnny Cash...\n",
      "Done.\n",
      "Lyrics saved to: C:/Projects/JSON/lyrics\\johnnycash_hurt_lyrics.json\n",
      "\n"
     ]
    }
   ],
   "source": [
    "# Setup: Genius API access\n",
    "genius = lyricsgenius.Genius(\"ZrtG7V89LbOxHkAOCs_LzajRANkD1K8k8uV6W4OwjmWQd8WL2tmKsXItmaEH04kr\")\n",
    "\n",
    "# Define target lyrics directory\n",
    "lyrics_dir = r\"C:/Projects/JSON/lyrics\"\n",
    "os.makedirs(lyrics_dir, exist_ok=True)\n",
    "\n",
    "# Function to fetch lyrics and save to a file (unless already saved)\n",
    "def fetch_and_save_lyrics(artist, song_title, filename):\n",
    "    \"\"\"Fetches lyrics for a song and saves them as JSON unless already saved.\"\"\"\n",
    "    output_path = os.path.join(lyrics_dir, filename)\n",
    "    \n",
    "    # Check if the file already exists\n",
    "    if os.path.exists(output_path):\n",
    "        print(f\"'{filename}' already saved.\\n\")\n",
    "        return\n",
    "    \n",
    "    # Fetch and save if not found\n",
    "    print(f\"Searching for '{song_title}' by {artist}...\")\n",
    "    song = genius.search_song(song_title, artist)\n",
    "    if song:\n",
    "        lyrics_data = {\"lyrics\": song.lyrics}\n",
    "        with open(output_path, \"w\", encoding=\"utf-8\") as f:\n",
    "            json.dump(lyrics_data, f, indent=4, ensure_ascii=False)\n",
    "        print(f\"Lyrics saved to: {output_path}\\n\")\n",
    "    else:\n",
    "        print(f\"Lyrics for '{song_title}' by {artist} not found.\\n\")\n",
    "\n",
    "# Test the function with four songs\n",
    "fetch_and_save_lyrics(\"Puscifer\", \"Conditions of My Parole\", \"puscifer_conditions_of_my_parole_lyrics.json\")\n",
    "fetch_and_save_lyrics(\"Adele\", \"Hello\", \"adele_hello_lyrics.json\")\n",
    "fetch_and_save_lyrics(\"Radiohead\", \"Karma Police\", \"radiohead_karma_police_lyrics.json\")\n",
    "fetch_and_save_lyrics(\"Johnny Cash\", \"Hurt\", \"johnnycash_hurt_lyrics.json\")\n"
   ]
  },
  {
   "cell_type": "markdown",
   "metadata": {},
   "source": [
    "#### Section 4. \n",
    "Write a function that takes the name of a file that contains song lyrics, loads the file, performs sentiment analysis, and returns the polarity score.  Use this function to print the polarity scores (with the name of the song) of the three files you created in question 3.  Does the reported polarity match your understanding of the song's lyrics? Why or why not do you think that might be?  Answer the questions in either a comment in the code cell or a markdown cell under the code cell."
   ]
  },
  {
   "cell_type": "code",
   "execution_count": null,
   "metadata": {},
   "outputs": [],
   "source": []
  }
 ],
 "metadata": {
  "kernelspec": {
   "display_name": ".venv",
   "language": "python",
   "name": "python3"
  },
  "language_info": {
   "codemirror_mode": {
    "name": "ipython",
    "version": 3
   },
   "file_extension": ".py",
   "mimetype": "text/x-python",
   "name": "python",
   "nbconvert_exporter": "python",
   "pygments_lexer": "ipython3",
   "version": "3.13.3"
  }
 },
 "nbformat": 4,
 "nbformat_minor": 4
}
